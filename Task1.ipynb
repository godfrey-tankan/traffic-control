{
 "cells": [
  {
   "cell_type": "markdown",
   "id": "02c0e802-cc87-442b-bbdd-25e7c80d9544",
   "metadata": {},
   "source": [
    "# Car Detection,Tracking and Counting using OpenCV\n",
    "\n",
    "This code performs car detection,counting and tracking using OpenCV. It analyzes a video file and applies background subtraction and object tracking techniques to detect and track cars.\n",
    "\n",
    "## Functionality\n",
    "\n",
    "1. **Video Capture**: The code initializes a `cv2.VideoCapture` object to read frames from the specified video file.\n",
    "\n",
    "2. **Object Tracker Initialization**: The code creates an instance of the `EuclideanDistTracker` class from a separate `tracker` module.\n",
    "   - This object tracker uses the Euclidean distance between detected objects in consecutive frames to track them.\n",
    "\n",
    "3. **Background Subtraction**: The code creates a background subtractor using `cv2.createBackgroundSubtractorMOG2`.\n",
    "   - This subtractor is used to separate moving objects (such as cars) from the background.\n",
    "   - The parameters `history`, `varThreshold`, and `detectShadows` control the behavior of the background subtractor.\n",
    "\n",
    "4. **Frame Processing Loop**: The code enters a loop to process each frame from the video source.\n",
    "   - It reads the next frame using `cap.read()`.\n",
    "   - A region of interest (roi) is defined to focus on a specific area of the frame, excluding the top and bottom portions.\n",
    "   - The background subtractor is applied to the roi, generating a binary mask that highlights moving objects.\n",
    "   - A binary threshold is applied to the mask to obtain a more distinct separation between the objects and the background.\n",
    "\n",
    "5. **Contour Detection**: The code uses `cv2.findContours` to detect contours in the binary mask.\n",
    "   - Contours are continuous curves that form the boundaries of the objects in the mask.\n",
    "   - The `cv2.RETR_TREE` retrieval mode and `cv2.CHAIN_APPROX_SIMPLE` contour approximation method are used.\n",
    "\n",
    "6. **Car Detection**: The code iterates over the detected contours and applies a size threshold to identify car-like objects.\n",
    "   - If the contour area is greater than 5000 pixels, it is considered a car.\n",
    "   - Detected car objects are stored in a list to avoid duplicate detections.\n",
    "\n",
    "7. **Car Tracking**: The code updates the object tracker with the detected car objects.\n",
    "   - The `car_tracker_ob.update()` method takes the detected car objects as input and returns the tracked car objects.\n",
    "   - The object tracker assigns a unique ID to each car and maintains the tracking across frames.\n",
    "\n",
    "8. **Display**: The code displays the processed frame with the tracked cars.\n",
    "   - The ID of each tracked car is displayed above the bounding rectangle using `cv2.putText`.\n",
    "   - The bounding rectangles of the tracked cars are drawn on the roi using `cv2.rectangle`.\n",
    "\n",
    "9. **Termination**: The code waits for a key press using `cv2.waitKey`. If the 'Esc' key is pressed (key code 27), the loop is terminated.\n",
    "\n",
    "10. **Cleanup**: After the loop, the video source is released using `cap.release()`, and all windows are closed using `cv2.destroyAllWindows()`.\n",
    "\n",
    "## Usage\n",
    "\n",
    "1. Run the code in a Python environment that has OpenCV installed.\n",
    "\n",
    "2. The code assumes you have a video file named `'task1/test2.mp4'` in the current directory.\n",
    "   - If your video file is located elsewhere, modify the video path in the `cv2.VideoCapture` statement.\n",
    "\n",
    "3. The code will start processing the frames and display the output in a separate window.\n",
    "   - The region of interest (roi) focuses on a specific area of the frame to exclude unwanted portions.\n",
    "\n",
    "4. The tracked cars will be displayed with their assigned IDs above the bounding rectangles.\n",
    "\n",
    "5. To exit the program, press the 'Esc' key."
   ]
  },
  {
   "cell_type": "code",
   "execution_count": 1,
   "id": "7940088b-3e90-4085-8596-be0539a381bb",
   "metadata": {},
   "outputs": [],
   "source": [
    "import cv2\n",
    "import numpy as np\n"
   ]
  },
  {
   "cell_type": "code",
   "execution_count": 2,
   "id": "7082ae48-4490-410b-92b0-660fcdd6b8da",
   "metadata": {
    "scrolled": true
   },
   "outputs": [
    {
     "name": "stdin",
     "output_type": "stream",
     "text": [
      "Enter 'camera' for camera detection or 'video' for video upload:  video\n"
     ]
    },
    {
     "name": "stderr",
     "output_type": "stream",
     "text": [
      "qt.qpa.plugin: Could not find the Qt platform plugin \"wayland\" in \"/home/tnqn/Documents/personal/detecting_cars/env/lib/python3.10/site-packages/cv2/qt/plugins\"\n"
     ]
    },
    {
     "ename": "KeyboardInterrupt",
     "evalue": "",
     "output_type": "error",
     "traceback": [
      "\u001b[0;31m---------------------------------------------------------------------------\u001b[0m",
      "\u001b[0;31mKeyboardInterrupt\u001b[0m                         Traceback (most recent call last)",
      "Cell \u001b[0;32mIn[2], line 46\u001b[0m\n\u001b[1;32m     43\u001b[0m     cv2\u001b[38;5;241m.\u001b[39mdestroyAllWindows()\n\u001b[1;32m     45\u001b[0m \u001b[38;5;28;01mif\u001b[39;00m \u001b[38;5;18m__name__\u001b[39m \u001b[38;5;241m==\u001b[39m \u001b[38;5;124m\"\u001b[39m\u001b[38;5;124m__main__\u001b[39m\u001b[38;5;124m\"\u001b[39m:\n\u001b[0;32m---> 46\u001b[0m     \u001b[43mmain\u001b[49m\u001b[43m(\u001b[49m\u001b[43m)\u001b[49m\n",
      "Cell \u001b[0;32mIn[2], line 39\u001b[0m, in \u001b[0;36mmain\u001b[0;34m()\u001b[0m\n\u001b[1;32m     32\u001b[0m     \u001b[38;5;66;03m# else:\u001b[39;00m\n\u001b[1;32m     33\u001b[0m     \u001b[38;5;66;03m#     x, y, w, h = cv2.boundingRect(cnt)\u001b[39;00m\n\u001b[1;32m     34\u001b[0m     \u001b[38;5;66;03m#     cv2.rectangle(frame, (x, y), (x+w, y+h), (0, 0, 255), 5)\u001b[39;00m\n\u001b[1;32m     37\u001b[0m cv2\u001b[38;5;241m.\u001b[39mimshow(\u001b[38;5;124m'\u001b[39m\u001b[38;5;124mFrame\u001b[39m\u001b[38;5;124m'\u001b[39m, frame)\n\u001b[0;32m---> 39\u001b[0m key \u001b[38;5;241m=\u001b[39m \u001b[43mcv2\u001b[49m\u001b[38;5;241;43m.\u001b[39;49m\u001b[43mwaitKey\u001b[49m\u001b[43m(\u001b[49m\u001b[38;5;241;43m30\u001b[39;49m\u001b[43m)\u001b[49m\n\u001b[1;32m     40\u001b[0m \u001b[38;5;28;01mif\u001b[39;00m key \u001b[38;5;241m==\u001b[39m \u001b[38;5;241m27\u001b[39m:\n\u001b[1;32m     41\u001b[0m     \u001b[38;5;28;01mbreak\u001b[39;00m\n",
      "\u001b[0;31mKeyboardInterrupt\u001b[0m: "
     ]
    }
   ],
   "source": [
    "def main():\n",
    "    source_type = input(\"Enter 'camera' for camera detection or 'video' for video upload: \")\n",
    "\n",
    "    if source_type.lower() == 'camera':\n",
    "        cap = cv2.VideoCapture(0) \n",
    "    elif source_type.lower() == 'video':\n",
    "        # video_path = input(\"Enter the path to the video file: \")\n",
    "       \n",
    "        path =\"/home/tnqn/Documents/personal/detecting_cars/task1/test2.mp4\"\n",
    "        cap = cv2.VideoCapture(path)\n",
    "    else:\n",
    "        print(\"Invalid input. Exiting...\")\n",
    "        return\n",
    "\n",
    "    if not cap.isOpened():\n",
    "        print(\"Failed to open the video source. Exiting...\")\n",
    "        return\n",
    "\n",
    "\n",
    "    object_detector = cv2.createBackgroundSubtractorMOG2(history=100, varThreshold=50, detectShadows=40)\n",
    "    while True:\n",
    "        ret, frame = cap.read()\n",
    "    \n",
    "        mask = object_detector.apply(frame)\n",
    "        _, mask = cv2.threshold(mask, 254, 255, cv2.THRESH_BINARY)\n",
    "        contours,_ = cv2.findContours(mask, cv2.RETR_TREE, cv2.CHAIN_APPROX_SIMPLE)\n",
    "        for cnt in contours:\n",
    "            # cv2.drawContours(frame, [cnt], -1, (0, 255, 0), 2)\n",
    "            if cv2.contourArea(cnt) >= 5000:\n",
    "                x, y, w, h = cv2.boundingRect(cnt)\n",
    "                cv2.rectangle(frame, (x, y), (x+w, y+h), (0, 255, 0), 2)\n",
    "            # else:\n",
    "            #     x, y, w, h = cv2.boundingRect(cnt)\n",
    "            #     cv2.rectangle(frame, (x, y), (x+w, y+h), (0, 0, 255), 5)\n",
    "\n",
    "\n",
    "        cv2.imshow('Frame', frame)\n",
    "\n",
    "        key = cv2.waitKey(30)\n",
    "        if key == 27:\n",
    "            break\n",
    "    cap.release()\n",
    "    cv2.destroyAllWindows()\n",
    "\n",
    "if __name__ == \"__main__\":\n",
    "    main()\n"
   ]
  }
 ],
 "metadata": {
  "kernelspec": {
   "display_name": "Python 3 (ipykernel)",
   "language": "python",
   "name": "python3"
  },
  "language_info": {
   "codemirror_mode": {
    "name": "ipython",
    "version": 3
   },
   "file_extension": ".py",
   "mimetype": "text/x-python",
   "name": "python",
   "nbconvert_exporter": "python",
   "pygments_lexer": "ipython3",
   "version": "3.10.12"
  }
 },
 "nbformat": 4,
 "nbformat_minor": 5
}
